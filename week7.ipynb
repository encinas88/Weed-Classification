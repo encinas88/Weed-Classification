{
  "nbformat": 4,
  "nbformat_minor": 0,
  "metadata": {
    "colab": {
      "name": "week7.ipynb",
      "provenance": [],
      "collapsed_sections": [],
      "include_colab_link": true
    },
    "kernelspec": {
      "name": "python3",
      "display_name": "Python 3"
    }
  },
  "cells": [
    {
      "cell_type": "markdown",
      "metadata": {
        "id": "view-in-github",
        "colab_type": "text"
      },
      "source": [
        "<a href=\"https://colab.research.google.com/github/encinas88/Weed-Classification/blob/master/week7.ipynb\" target=\"_parent\"><img src=\"https://colab.research.google.com/assets/colab-badge.svg\" alt=\"Open In Colab\"/></a>"
      ]
    },
    {
      "cell_type": "code",
      "metadata": {
        "id": "tOmqSVJunK1W",
        "colab_type": "code",
        "colab": {
          "base_uri": "https://localhost:8080/",
          "height": 54
        },
        "outputId": "45825312-5d92-4760-9e8e-70a2013b53a8"
      },
      "source": [
        "import numpy as np \n",
        "import matplotlib.pyplot as plt \n",
        "import cv2\n",
        "import json\n",
        "import os\n",
        "import glob\n",
        "%matplotlib inline\n",
        "\n",
        "plt.rcParams['figure.figsize'] = (19.0, 17.0)\n",
        "plt.rcParams['image.interpolation'] = 'nearest'\n",
        "plt.rcParams['image.cmap'] = 'gray'\n",
        "\n",
        "%load_ext autoreload\n",
        "%autoreload 2"
      ],
      "execution_count": 7,
      "outputs": [
        {
          "output_type": "stream",
          "text": [
            "The autoreload extension is already loaded. To reload it, use:\n",
            "  %reload_ext autoreload\n"
          ],
          "name": "stdout"
        }
      ]
    },
    {
      "cell_type": "code",
      "metadata": {
        "id": "Z73jSlYcnPFq",
        "colab_type": "code",
        "colab": {
          "base_uri": "https://localhost:8080/",
          "height": 235
        },
        "outputId": "bc2c1cca-2f53-48a5-9f86-c8e3ba776ed9"
      },
      "source": [
        "!pip install kaggle\n",
        "\n",
        "username = \"xxxx\"  \n",
        "key = \"xxxxxxxxxxxxxxxx\"       \n",
        "\n",
        "api_token = {\"username\": username,\"key\": key}\n",
        "\n",
        "!mkdir /root/.kaggle\n",
        "with open('/root/.kaggle/kaggle.json', 'w') as file:\n",
        "    json.dump(api_token, file)\n",
        "!chmod 600 /root/.kaggle/kaggle.json # that nobody else can read your file"
      ],
      "execution_count": 8,
      "outputs": [
        {
          "output_type": "stream",
          "text": [
            "Requirement already satisfied: kaggle in /usr/local/lib/python3.6/dist-packages (1.5.6)\n",
            "Requirement already satisfied: python-dateutil in /usr/local/lib/python3.6/dist-packages (from kaggle) (2.6.1)\n",
            "Requirement already satisfied: six>=1.10 in /usr/local/lib/python3.6/dist-packages (from kaggle) (1.12.0)\n",
            "Requirement already satisfied: requests in /usr/local/lib/python3.6/dist-packages (from kaggle) (2.21.0)\n",
            "Requirement already satisfied: certifi in /usr/local/lib/python3.6/dist-packages (from kaggle) (2019.9.11)\n",
            "Requirement already satisfied: tqdm in /usr/local/lib/python3.6/dist-packages (from kaggle) (4.28.1)\n",
            "Requirement already satisfied: urllib3<1.25,>=1.21.1 in /usr/local/lib/python3.6/dist-packages (from kaggle) (1.24.3)\n",
            "Requirement already satisfied: python-slugify in /usr/local/lib/python3.6/dist-packages (from kaggle) (4.0.0)\n",
            "Requirement already satisfied: idna<2.9,>=2.5 in /usr/local/lib/python3.6/dist-packages (from requests->kaggle) (2.8)\n",
            "Requirement already satisfied: chardet<3.1.0,>=3.0.2 in /usr/local/lib/python3.6/dist-packages (from requests->kaggle) (3.0.4)\n",
            "Requirement already satisfied: text-unidecode>=1.3 in /usr/local/lib/python3.6/dist-packages (from python-slugify->kaggle) (1.3)\n",
            "mkdir: cannot create directory ‘/root/.kaggle’: File exists\n"
          ],
          "name": "stdout"
        }
      ]
    },
    {
      "cell_type": "code",
      "metadata": {
        "id": "Njn2q6TOnTYX",
        "colab_type": "code",
        "colab": {
          "base_uri": "https://localhost:8080/",
          "height": 35
        },
        "outputId": "d6e75953-4cdb-4a65-a4ef-a421ba81284c"
      },
      "source": [
        "!kaggle datasets download -d fpeccia/weed-detection-in-soybean-crops"
      ],
      "execution_count": 9,
      "outputs": [
        {
          "output_type": "stream",
          "text": [
            "weed-detection-in-soybean-crops.zip: Skipping, found more recently modified local copy (use --force to force download)\n"
          ],
          "name": "stdout"
        }
      ]
    },
    {
      "cell_type": "code",
      "metadata": {
        "id": "8CwXpYIPnaT-",
        "colab_type": "code",
        "colab": {
          "base_uri": "https://localhost:8080/",
          "height": 126
        },
        "outputId": "d6d2bcd0-5b76-44ac-ba91-f737f9de7cf1"
      },
      "source": [
        "print(os.listdir())\n",
        "!unzip -q weed-detection-in-soybean-crops.zip"
      ],
      "execution_count": 10,
      "outputs": [
        {
          "output_type": "stream",
          "text": [
            "['.config', 'weed-detection-in-soybean-crops.zip', 'dataset', 'sample_data']\n",
            "replace dataset/broadleaf/1.tif? [y]es, [n]o, [A]ll, [N]one, [r]ename: n\n",
            "replace dataset/broadleaf/10.tif? [y]es, [n]o, [A]ll, [N]one, [r]ename: n\n",
            "replace dataset/broadleaf/100.tif? [y]es, [n]o, [A]ll, [N]one, [r]ename: n\n",
            "replace dataset/broadleaf/1000.tif? [y]es, [n]o, [A]ll, [N]one, [r]ename: n\n",
            "replace dataset/broadleaf/1001.tif? [y]es, [n]o, [A]ll, [N]one, [r]ename: N\n"
          ],
          "name": "stdout"
        }
      ]
    },
    {
      "cell_type": "code",
      "metadata": {
        "id": "UKHWIEKPnw0F",
        "colab_type": "code",
        "colab": {
          "base_uri": "https://localhost:8080/",
          "height": 35
        },
        "outputId": "533cf9b1-391b-4e05-9133-6d386f5b04ca"
      },
      "source": [
        "print(os.listdir())"
      ],
      "execution_count": 11,
      "outputs": [
        {
          "output_type": "stream",
          "text": [
            "['.config', 'weed-detection-in-soybean-crops.zip', 'dataset', 'sample_data']\n"
          ],
          "name": "stdout"
        }
      ]
    },
    {
      "cell_type": "code",
      "metadata": {
        "id": "0xxSiHcAoBnp",
        "colab_type": "code",
        "colab": {}
      },
      "source": [
        "!rm -r ./dataset/broadleaf/*\n",
        "!rm -r ./dataset/grass/*\n",
        "!rm -r ./dataset/soil/*\n",
        "!rm -r ./dataset/soybean/*"
      ],
      "execution_count": 0,
      "outputs": []
    },
    {
      "cell_type": "code",
      "metadata": {
        "id": "oQw8ML3ioVY4",
        "colab_type": "code",
        "colab": {
          "base_uri": "https://localhost:8080/",
          "height": 108
        },
        "outputId": "9c514436-526f-41be-f909-7cada38087a5"
      },
      "source": [
        "data_dir = r'/content/dataset/dataset' # Setting the dataset directory\n",
        "classes = ['broadleaf', 'grass', 'soil', 'soybean'] # Setting all the available classes\n",
        "\n",
        "num_file = 1100 # Number of files\n",
        "all_files = []\n",
        "num_data = num_file * len(classes)\n",
        "Y = np.zeros(num_data) # Initialize all output values with 0\n",
        "\n",
        "# Get the files\n",
        "for i, cls in enumerate(classes):\n",
        "  all_files += [f for f in glob.glob(data_dir + cls + '/*.tif')][:num_file]\n",
        "  Y[i * num_file: (i + 1) * num_file] = i # Label all classes with int [0.. len(classes)]\n",
        "\n",
        "image_width = 200\n",
        "image_height = 200\n",
        "image_channel = 3\n",
        "dimension = image_width * image_height * image_channel\n",
        "\n",
        "X = np.ndarray(shape=(num_data, image_width, image_height, image_channel), dtype=np.uint8) # Create a nd array\n",
        "\n",
        "for i, file in enumerate(all_files):\n",
        "  X[i] = cv2.resize(cv2.imread(file), (image_width, image_height)) # Add and load all images\n",
        "\n",
        "# Split training, validation and testing set by creating empty arrays\n",
        "X_train = np.empty(shape=(4000, image_width, image_height, image_channel), dtype=np.uint8)\n",
        "X_val = np.empty(shape=(200, image_width, image_height, image_channel), dtype=np.uint8)\n",
        "X_test = np.empty(shape=(200, image_width, image_height, image_channel), dtype=np.uint8)\n",
        "\n",
        "Y_train = np.empty(4000)\n",
        "Y_val = np.empty(200)\n",
        "Y_test = np.empty(200)\n",
        "\n",
        "# Set all x and y values\n",
        "for i, cls in enumerate(classes):\n",
        "  X_test[50 * i: 50 * (i + 1)] = X[np.where(Y == i)[0][:50]]\n",
        "  X_val[50 * i: 50 * (i + 1)] = X[np.where(Y == i)[0][50:100]]\n",
        "  X_train[1000 * i: 1000 * (i + 1)] = X[np.where(Y == i)[0][100:]]\n",
        "\n",
        "  Y_test[50 * i: 50 * (i + 1)] = i\n",
        "  Y_val[50 * i: 50 * (i + 1)] = i\n",
        "  Y_train[1000 * i: 1000 * (i + 1)] = i\n",
        "\n",
        "# Save some memory by deleting X and Y\n",
        "del Y\n",
        "del X\n",
        "\n",
        "# Select random x and y train data\n",
        "train_indexes = np.random.permutation(X_train.shape[0]) # Create random indexes array with the length of X_train.shape[0]\n",
        "Y_train = Y_train[train_indexes].astype(int) \n",
        "X_train = X_train[train_indexes]\n",
        "\n",
        "# Reshape the train, test, val data\n",
        "X_train = np.reshape(X_train, (X_train.shape[0], -1)).astype('float64')\n",
        "X_test = np.reshape(X_test, (X_test.shape[0], -1)).astype('float64')\n",
        "X_val = np.reshape(X_val, (X_val.shape[0], -1)).astype('float64')\n",
        "\n",
        "# Create custom tiny dataset for testing\n",
        "X_tiny = X_train[100:110].astype('float64')\n",
        "Y_tiny = Y_train[100:110].astype(int)\n",
        "num_dev = 500\n",
        "\n",
        "# Create custom dev dataset for testing\n",
        "X_dev = X_train[0:num_dev].astype('float64')\n",
        "Y_dev = Y_train[0:num_dev].astype(int)\n",
        "\n",
        "# Compute the mean image\n",
        "mean_image = np.mean(X_train, axis=0) # axis=0. stack horizontally\n",
        "# Subtract the mean image from train and test data \n",
        "X_train -= mean_image\n",
        "X_val -= mean_image \n",
        "X_test -= mean_image\n",
        "X_dev -= mean_image\n",
        "X_tiny -= mean_image\n",
        "\n",
        "print(\"X_train shape\", X_train.shape)\n",
        "print(\"X_test shape\", X_test.shape)\n",
        "print(\"X_val shape\", X_val.shape)\n",
        "print(\"X_dev shape\", X_dev.shape)\n",
        "print(\"X_tiny shape\", X_tiny.shape)"
      ],
      "execution_count": 14,
      "outputs": [
        {
          "output_type": "stream",
          "text": [
            "X_train shape (4000, 120000)\n",
            "X_test shape (200, 120000)\n",
            "X_val shape (200, 120000)\n",
            "X_dev shape (500, 120000)\n",
            "X_tiny shape (10, 120000)\n"
          ],
          "name": "stdout"
        }
      ]
    },
    {
      "cell_type": "code",
      "metadata": {
        "id": "Cj81GXtdomqG",
        "colab_type": "code",
        "colab": {}
      },
      "source": [
        "plt.rcParams['figure.figsize'] = (12.0, 8.0)\n",
        "plt.rcParams['image.interpolation'] = 'nearest'\n",
        "plt.rcParams['image.cmap'] = 'gray'"
      ],
      "execution_count": 0,
      "outputs": []
    },
    {
      "cell_type": "code",
      "metadata": {
        "id": "iRoeBydGo1UF",
        "colab_type": "code",
        "colab": {
          "base_uri": "https://localhost:8080/",
          "height": 499
        },
        "outputId": "56c6730d-34e6-45a9-eb19-8fb2b48406c4"
      },
      "source": [
        "classes = ['broadleaf', 'grass', 'soil', 'soybean']\n",
        "n_class = len(classes)\n",
        "samples_per_class = 4\n",
        "\n",
        "# Plot 4 images of each class\n",
        "for Y, cls in enumerate(classes):\n",
        "  indexes = np.flatnonzero(Y == Y_train)\n",
        "  indexes = np.random.choice(indexes, samples_per_class, replace=False)\n",
        "  for i, index, in enumerate(indexes):\n",
        "    plt_index = i * n_class + Y + 1\n",
        "    plt.subplot(samples_per_class, n_class, plt_index)\n",
        "    plt.imshow(X_train[index].reshape(image_width, image_height, image_channel).astype('uint8'))\n",
        "    if i == 0: plt.title(cls)\n",
        "\n",
        "plt.show()"
      ],
      "execution_count": 17,
      "outputs": [
        {
          "output_type": "display_data",
          "data": {
            "image/png": "[encoded data removed]",
            "text/plain": [
              "<Figure size 864x576 with 16 Axes>"
            ]
          },
          "metadata": {
            "tags": []
          }
        }
      ]
    },
    {
      "cell_type": "code",
      "metadata": {
        "id": "KwWd2qeppCuF",
        "colab_type": "code",
        "colab": {}
      },
      "source": [
        "class NeuralNetwork:\n",
        "  hidden_size = 200\n",
        "  input_size = image_width * image_height * image_channel\n",
        "  output_size = n_class\n",
        "\n",
        "  \"\"\"\n",
        "  w1: first layer weight\n",
        "  w2: second layer weight\n",
        "  \"\"\"\n",
        "  w1 = 1e-3 * np.random.randn(input_size, hidden_size)\n",
        "  b1 = np.zeros(hidden_size)\n",
        "  w2 = 1e-3 * np.random.randn(hidden_size, output_size)\n",
        "  b2 = np.zeros(output_size)\n",
        "    \n",
        "  alpha = 1e-5\n",
        "  batch_size = 100\n",
        "    \n",
        "  epochs = 500\n",
        "  \n",
        "  def train(self, X, Y, X_val, Y_val):\n",
        "    N, D = X.shape\n",
        "    N_val = X_val.shape[0]\n",
        "    iteration_per_epoch = max(N / self.batch_size, 1)\n",
        "\n",
        "    loss_hist = []\n",
        "    train_acc_hist = []\n",
        "    val_acc_hist = []\n",
        "    \n",
        "    for it in range(self.epochs):\n",
        "      sampling = np.random.choice(np.arange(N), self.batch_size, replace=False) # Create random array data\n",
        "\n",
        "      # Getting batches for x and y\n",
        "      X_batch = X[sampling]\n",
        "      Y_batch = Y[sampling]\n",
        "\n",
        "      loss, grads = self.loss(X_batch, Y=Y_batch)\n",
        "      loss_hist.append(loss)\n",
        "\n",
        "      # Make the model learning and reshape the parameters of the network\n",
        "      self.w1 += -1.0 * self.alpha * grads['w1']\n",
        "      self.b1 += -1.0 * self.alpha * grads['b1']\n",
        "      self.w2 += -1.0 * self.alpha * grads['w2']\n",
        "      self.b2 += -1.0 * self.alpha * grads['b2']\n",
        "\n",
        "      if it % 10 == 0:\n",
        "        print('iteration: %d / %d | Loss: %f' % (it, self.epochs, loss))\n",
        "    \n",
        "      if it % iteration_per_epoch == 0:\n",
        "        train_acc = (self.predict(X_batch) == Y_batch).mean()\n",
        "        val_acc = (self.predict(X_val) == Y_val).mean()\n",
        "        train_acc_hist.append(train_acc)\n",
        "        val_acc_hist.append(val_acc)\n",
        "\n",
        "        self.alpha *= 0.95\n",
        "    \n",
        "    return {\n",
        "        'loss_hist': loss_hist,\n",
        "        'train_acc_hist': train_acc_hist,\n",
        "        'val_acc_hist': val_acc_hist\n",
        "    }\n",
        "\n",
        "  def relu(self, z):\n",
        "    return np.maximum(0, z)\n",
        "  \n",
        "  def predict(self, X):\n",
        "    Y_pred = None\n",
        "    layer1 = self.relu(X.dot(self.w1) + self.b1)\n",
        "    scores = layer1.dot(self.w2) + self.b2\n",
        "    Y_pred = np.argmax(scores, axis=1)\n",
        "    return Y_pred\n",
        "\n",
        "  def loss(self, X, Y = None):\n",
        "    N, D = X.shape\n",
        "\n",
        "    # Calculate the loss of our layer1\n",
        "    layer1 = self.relu(X.dot(self.w1) + self.b1)\n",
        "    scores = layer1.dot(self.w2) + self.b2\n",
        "\n",
        "    if (Y is None):\n",
        "      return scores\n",
        "\n",
        "    # Calculate the actual loss\n",
        "    scores -= scores.max()\n",
        "    scores = np.exp(scores)\n",
        "    scores_sumexp = np.sum(scores, axis=1)\n",
        "    softmax = scores / scores_sumexp.reshape(N, 1)\n",
        "    loss = -1.0 * np.sum(np.log(softmax[range(N), Y]))\n",
        "    loss /= N\n",
        "\n",
        "    grads = {}\n",
        "    correct_class_scores = scores[range(N), Y]\n",
        "    softmax[range(N), Y] = -1.0 * (scores_sumexp - correct_class_scores) / scores_sumexp\n",
        "    softmax /= N\n",
        "\n",
        "    grads['w2'] = layer1.T.dot(softmax)\n",
        "    grads['b2'] = np.sum(softmax, axis=0)\n",
        "\n",
        "    hidden = softmax.dot(self.w2.T)\n",
        "\n",
        "    grads['w1'] = X.T.dot(hidden)\n",
        "    grads['b1'] = np.sum(hidden, axis=0)\n",
        "\n",
        "    return loss, grads"
      ],
      "execution_count": 0,
      "outputs": []
    },
    {
      "cell_type": "code",
      "metadata": {
        "id": "XAzySNRipI4N",
        "colab_type": "code",
        "colab": {
          "base_uri": "https://localhost:8080/",
          "height": 926
        },
        "outputId": "3f44fa3e-f663-47ae-9e14-53cc1494ebc8"
      },
      "source": [
        "nn = NeuralNetwork()\n",
        "stats = nn.train(X_dev, Y_dev, X_val, Y_val)"
      ],
      "execution_count": 19,
      "outputs": [
        {
          "output_type": "stream",
          "text": [
            "iteration: 0 / 500 | Loss: 1.386294\n",
            "iteration: 10 / 500 | Loss: 1.386294\n",
            "iteration: 20 / 500 | Loss: 1.386294\n",
            "iteration: 30 / 500 | Loss: 1.386294\n",
            "iteration: 40 / 500 | Loss: 1.386294\n",
            "iteration: 50 / 500 | Loss: 1.386294\n",
            "iteration: 60 / 500 | Loss: 1.386294\n",
            "iteration: 70 / 500 | Loss: 1.386294\n",
            "iteration: 80 / 500 | Loss: 1.386294\n",
            "iteration: 90 / 500 | Loss: 1.386294\n",
            "iteration: 100 / 500 | Loss: 1.386292\n",
            "iteration: 110 / 500 | Loss: 1.386294\n",
            "iteration: 120 / 500 | Loss: 1.386294\n",
            "iteration: 130 / 500 | Loss: 1.386295\n",
            "iteration: 140 / 500 | Loss: 1.386294\n",
            "iteration: 150 / 500 | Loss: 1.386294\n",
            "iteration: 160 / 500 | Loss: 1.386294\n",
            "iteration: 170 / 500 | Loss: 1.386294\n",
            "iteration: 180 / 500 | Loss: 1.386295\n",
            "iteration: 190 / 500 | Loss: 1.386294\n",
            "iteration: 200 / 500 | Loss: 1.386292\n",
            "iteration: 210 / 500 | Loss: 1.386295\n",
            "iteration: 220 / 500 | Loss: 1.386294\n",
            "iteration: 230 / 500 | Loss: 1.386293\n",
            "iteration: 240 / 500 | Loss: 1.386294\n",
            "iteration: 250 / 500 | Loss: 1.386294\n",
            "iteration: 260 / 500 | Loss: 1.386295\n",
            "iteration: 270 / 500 | Loss: 1.386294\n",
            "iteration: 280 / 500 | Loss: 1.386295\n",
            "iteration: 290 / 500 | Loss: 1.386294\n",
            "iteration: 300 / 500 | Loss: 1.386293\n",
            "iteration: 310 / 500 | Loss: 1.386293\n",
            "iteration: 320 / 500 | Loss: 1.386294\n",
            "iteration: 330 / 500 | Loss: 1.386295\n",
            "iteration: 340 / 500 | Loss: 1.386294\n",
            "iteration: 350 / 500 | Loss: 1.386296\n",
            "iteration: 360 / 500 | Loss: 1.386295\n",
            "iteration: 370 / 500 | Loss: 1.386294\n",
            "iteration: 380 / 500 | Loss: 1.386293\n",
            "iteration: 390 / 500 | Loss: 1.386294\n",
            "iteration: 400 / 500 | Loss: 1.386293\n",
            "iteration: 410 / 500 | Loss: 1.386294\n",
            "iteration: 420 / 500 | Loss: 1.386295\n",
            "iteration: 430 / 500 | Loss: 1.386293\n",
            "iteration: 440 / 500 | Loss: 1.386295\n",
            "iteration: 450 / 500 | Loss: 1.386294\n",
            "iteration: 460 / 500 | Loss: 1.386294\n",
            "iteration: 470 / 500 | Loss: 1.386293\n",
            "iteration: 480 / 500 | Loss: 1.386295\n",
            "iteration: 490 / 500 | Loss: 1.386294\n"
          ],
          "name": "stdout"
        }
      ]
    },
    {
      "cell_type": "code",
      "metadata": {
        "id": "n1jKBh30pNBQ",
        "colab_type": "code",
        "colab": {
          "base_uri": "https://localhost:8080/",
          "height": 35
        },
        "outputId": "7538ac62-3c3d-4011-f062-527e4ab2b4e3"
      },
      "source": [
        "print((nn.predict(X_test) == Y_test).mean())"
      ],
      "execution_count": 20,
      "outputs": [
        {
          "output_type": "stream",
          "text": [
            "0.25\n"
          ],
          "name": "stdout"
        }
      ]
    },
    {
      "cell_type": "code",
      "metadata": {
        "id": "rSdco51JpPqT",
        "colab_type": "code",
        "colab": {
          "base_uri": "https://localhost:8080/",
          "height": 386
        },
        "outputId": "3c68217a-45f9-444a-d763-67800c0a2eef"
      },
      "source": [
        "index = np.flatnonzero(0 == Y_train)\n",
        "index = np.random.choice(index, 1, replace=False)\n",
        "prediction = nn.predict(X_train[index])\n",
        "\n",
        "plt.subplot(1, 2, 1)\n",
        "plt.title('{} | {}'.format(classes[0], classes[prediction[0]]))\n",
        "plt.imshow(X_train[index].reshape(image_width, image_height, image_channel).astype('uint8'))\n",
        "\n",
        "index = np.flatnonzero(1 == Y_train)\n",
        "index = np.random.choice(index, 1, replace=False)\n",
        "prediction = nn.predict(X_train[index])\n",
        "\n",
        "plt.subplot(1, 2, 2)\n",
        "plt.title('{} | {}'.format(classes[1], classes[prediction[0]]))\n",
        "plt.imshow(X_train[index].reshape(image_width, image_height, image_channel).astype('uint8'))"
      ],
      "execution_count": 21,
      "outputs": [
        {
          "output_type": "execute_result",
          "data": {
            "text/plain": [
              "<matplotlib.image.AxesImage at 0x7fc9c8ba0b70>"
            ]
          },
          "metadata": {
            "tags": []
          },
          "execution_count": 21
        },
        {
          "output_type": "display_data",
          "data": {
            "image/png": "[encoded data removed]",
            "text/plain": [
              "<Figure size 864x576 with 2 Axes>"
            ]
          },
          "metadata": {
            "tags": []
          }
        }
      ]
    }
  ]
}
